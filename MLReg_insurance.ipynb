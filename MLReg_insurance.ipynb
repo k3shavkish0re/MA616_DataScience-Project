{
 "cells": [
  {
   "cell_type": "code",
   "execution_count": 2,
   "metadata": {},
   "outputs": [],
   "source": [
    "#multi linear regression to predict insurance cost\n",
    "#When using the 'inline' backend, your matplotlib graphs will be included in your notebook, next to the code.\n",
    "import pandas as pd\n",
    "import numpy as np\n",
    "import seaborn as sns\n",
    "import matplotlib.pyplot as plt\n",
    "from IPython.display import display\n",
    "import sys\n"
   ]
  },
  {
   "cell_type": "code",
   "execution_count": 3,
   "metadata": {
    "scrolled": true
   },
   "outputs": [
    {
     "name": "stdout",
     "output_type": "stream",
     "text": [
      "['age', 'sex', 'bmi', 'children', 'smoker', 'region', 'charges']\n"
     ]
    }
   ],
   "source": [
    "\n",
    "cols = list(pd.read_csv(\"insurance.csv\"))\n",
    "print(cols)"
   ]
  },
  {
   "cell_type": "code",
   "execution_count": 4,
   "metadata": {},
   "outputs": [],
   "source": [
    "data = pd.read_csv(\"insurance.csv\")\n",
    "pd.set_option('display.max_columns', None)\n",
    "pd.set_option('display.max_rows', None)"
   ]
  },
  {
   "cell_type": "code",
   "execution_count": 5,
   "metadata": {},
   "outputs": [
    {
     "data": {
      "text/html": [
       "<div>\n",
       "<style scoped>\n",
       "    .dataframe tbody tr th:only-of-type {\n",
       "        vertical-align: middle;\n",
       "    }\n",
       "\n",
       "    .dataframe tbody tr th {\n",
       "        vertical-align: top;\n",
       "    }\n",
       "\n",
       "    .dataframe thead th {\n",
       "        text-align: right;\n",
       "    }\n",
       "</style>\n",
       "<table border=\"1\" class=\"dataframe\">\n",
       "  <thead>\n",
       "    <tr style=\"text-align: right;\">\n",
       "      <th></th>\n",
       "      <th>age</th>\n",
       "      <th>sex</th>\n",
       "      <th>bmi</th>\n",
       "      <th>children</th>\n",
       "      <th>smoker</th>\n",
       "      <th>region</th>\n",
       "      <th>charges</th>\n",
       "    </tr>\n",
       "  </thead>\n",
       "  <tbody>\n",
       "    <tr>\n",
       "      <th>0</th>\n",
       "      <td>19</td>\n",
       "      <td>female</td>\n",
       "      <td>27.900</td>\n",
       "      <td>0</td>\n",
       "      <td>yes</td>\n",
       "      <td>southwest</td>\n",
       "      <td>16884.92400</td>\n",
       "    </tr>\n",
       "    <tr>\n",
       "      <th>1</th>\n",
       "      <td>18</td>\n",
       "      <td>male</td>\n",
       "      <td>33.770</td>\n",
       "      <td>1</td>\n",
       "      <td>no</td>\n",
       "      <td>southeast</td>\n",
       "      <td>1725.55230</td>\n",
       "    </tr>\n",
       "    <tr>\n",
       "      <th>2</th>\n",
       "      <td>28</td>\n",
       "      <td>male</td>\n",
       "      <td>33.000</td>\n",
       "      <td>3</td>\n",
       "      <td>no</td>\n",
       "      <td>southeast</td>\n",
       "      <td>4449.46200</td>\n",
       "    </tr>\n",
       "    <tr>\n",
       "      <th>3</th>\n",
       "      <td>33</td>\n",
       "      <td>male</td>\n",
       "      <td>22.705</td>\n",
       "      <td>0</td>\n",
       "      <td>no</td>\n",
       "      <td>northwest</td>\n",
       "      <td>21984.47061</td>\n",
       "    </tr>\n",
       "    <tr>\n",
       "      <th>4</th>\n",
       "      <td>32</td>\n",
       "      <td>male</td>\n",
       "      <td>28.880</td>\n",
       "      <td>0</td>\n",
       "      <td>no</td>\n",
       "      <td>northwest</td>\n",
       "      <td>3866.85520</td>\n",
       "    </tr>\n",
       "  </tbody>\n",
       "</table>\n",
       "</div>"
      ],
      "text/plain": [
       "   age     sex     bmi  children smoker     region      charges\n",
       "0   19  female  27.900         0    yes  southwest  16884.92400\n",
       "1   18    male  33.770         1     no  southeast   1725.55230\n",
       "2   28    male  33.000         3     no  southeast   4449.46200\n",
       "3   33    male  22.705         0     no  northwest  21984.47061\n",
       "4   32    male  28.880         0     no  northwest   3866.85520"
      ]
     },
     "execution_count": 5,
     "metadata": {},
     "output_type": "execute_result"
    }
   ],
   "source": [
    "data.head()\n"
   ]
  },
  {
   "cell_type": "code",
   "execution_count": 6,
   "metadata": {},
   "outputs": [
    {
     "data": {
      "text/plain": [
       "(1338, 7)"
      ]
     },
     "execution_count": 6,
     "metadata": {},
     "output_type": "execute_result"
    }
   ],
   "source": [
    "#finding number of rows and columns\n",
    "data.shape"
   ]
  },
  {
   "cell_type": "code",
   "execution_count": 7,
   "metadata": {},
   "outputs": [
    {
     "name": "stdout",
     "output_type": "stream",
     "text": [
      "<class 'pandas.core.frame.DataFrame'>\n",
      "RangeIndex: 1338 entries, 0 to 1337\n",
      "Data columns (total 7 columns):\n",
      " #   Column    Non-Null Count  Dtype  \n",
      "---  ------    --------------  -----  \n",
      " 0   age       1338 non-null   int64  \n",
      " 1   sex       1338 non-null   object \n",
      " 2   bmi       1338 non-null   float64\n",
      " 3   children  1338 non-null   int64  \n",
      " 4   smoker    1338 non-null   object \n",
      " 5   region    1338 non-null   object \n",
      " 6   charges   1338 non-null   float64\n",
      "dtypes: float64(2), int64(2), object(3)\n",
      "memory usage: 73.3+ KB\n"
     ]
    }
   ],
   "source": [
    "data.info()"
   ]
  },
  {
   "cell_type": "code",
   "execution_count": 8,
   "metadata": {},
   "outputs": [
    {
     "data": {
      "text/html": [
       "<div>\n",
       "<style scoped>\n",
       "    .dataframe tbody tr th:only-of-type {\n",
       "        vertical-align: middle;\n",
       "    }\n",
       "\n",
       "    .dataframe tbody tr th {\n",
       "        vertical-align: top;\n",
       "    }\n",
       "\n",
       "    .dataframe thead th {\n",
       "        text-align: right;\n",
       "    }\n",
       "</style>\n",
       "<table border=\"1\" class=\"dataframe\">\n",
       "  <thead>\n",
       "    <tr style=\"text-align: right;\">\n",
       "      <th></th>\n",
       "      <th>age</th>\n",
       "      <th>bmi</th>\n",
       "      <th>children</th>\n",
       "      <th>charges</th>\n",
       "    </tr>\n",
       "  </thead>\n",
       "  <tbody>\n",
       "    <tr>\n",
       "      <th>count</th>\n",
       "      <td>1338.000000</td>\n",
       "      <td>1338.000000</td>\n",
       "      <td>1338.000000</td>\n",
       "      <td>1338.000000</td>\n",
       "    </tr>\n",
       "    <tr>\n",
       "      <th>mean</th>\n",
       "      <td>39.207025</td>\n",
       "      <td>30.663397</td>\n",
       "      <td>1.094918</td>\n",
       "      <td>13270.422265</td>\n",
       "    </tr>\n",
       "    <tr>\n",
       "      <th>std</th>\n",
       "      <td>14.049960</td>\n",
       "      <td>6.098187</td>\n",
       "      <td>1.205493</td>\n",
       "      <td>12110.011237</td>\n",
       "    </tr>\n",
       "    <tr>\n",
       "      <th>min</th>\n",
       "      <td>18.000000</td>\n",
       "      <td>15.960000</td>\n",
       "      <td>0.000000</td>\n",
       "      <td>1121.873900</td>\n",
       "    </tr>\n",
       "    <tr>\n",
       "      <th>25%</th>\n",
       "      <td>27.000000</td>\n",
       "      <td>26.296250</td>\n",
       "      <td>0.000000</td>\n",
       "      <td>4740.287150</td>\n",
       "    </tr>\n",
       "    <tr>\n",
       "      <th>50%</th>\n",
       "      <td>39.000000</td>\n",
       "      <td>30.400000</td>\n",
       "      <td>1.000000</td>\n",
       "      <td>9382.033000</td>\n",
       "    </tr>\n",
       "    <tr>\n",
       "      <th>75%</th>\n",
       "      <td>51.000000</td>\n",
       "      <td>34.693750</td>\n",
       "      <td>2.000000</td>\n",
       "      <td>16639.912515</td>\n",
       "    </tr>\n",
       "    <tr>\n",
       "      <th>max</th>\n",
       "      <td>64.000000</td>\n",
       "      <td>53.130000</td>\n",
       "      <td>5.000000</td>\n",
       "      <td>63770.428010</td>\n",
       "    </tr>\n",
       "  </tbody>\n",
       "</table>\n",
       "</div>"
      ],
      "text/plain": [
       "               age          bmi     children       charges\n",
       "count  1338.000000  1338.000000  1338.000000   1338.000000\n",
       "mean     39.207025    30.663397     1.094918  13270.422265\n",
       "std      14.049960     6.098187     1.205493  12110.011237\n",
       "min      18.000000    15.960000     0.000000   1121.873900\n",
       "25%      27.000000    26.296250     0.000000   4740.287150\n",
       "50%      39.000000    30.400000     1.000000   9382.033000\n",
       "75%      51.000000    34.693750     2.000000  16639.912515\n",
       "max      64.000000    53.130000     5.000000  63770.428010"
      ]
     },
     "execution_count": 8,
     "metadata": {},
     "output_type": "execute_result"
    }
   ],
   "source": [
    "data.describe()"
   ]
  },
  {
   "cell_type": "code",
   "execution_count": 9,
   "metadata": {},
   "outputs": [
    {
     "data": {
      "text/plain": [
       "age           47\n",
       "sex            2\n",
       "bmi          548\n",
       "children       6\n",
       "smoker         2\n",
       "region         4\n",
       "charges     1337\n",
       "dtype: int64"
      ]
     },
     "execution_count": 9,
     "metadata": {},
     "output_type": "execute_result"
    }
   ],
   "source": [
    "data.nunique()"
   ]
  },
  {
   "cell_type": "code",
   "execution_count": 10,
   "metadata": {},
   "outputs": [
    {
     "name": "stdout",
     "output_type": "stream",
     "text": [
      "[16884.924   1725.5523  4449.462  ...  1629.8335  2007.945  29141.3603]\n"
     ]
    }
   ],
   "source": [
    "X = data.iloc[:,:-1].values\n",
    "y = data.iloc[:,6].values\n",
    "print(y)\n"
   ]
  },
  {
   "cell_type": "code",
   "execution_count": 11,
   "metadata": {},
   "outputs": [
    {
     "name": "stdout",
     "output_type": "stream",
     "text": [
      "[[19 'female' 27.9 0 'yes' 'southwest']\n",
      " [18 'male' 33.77 1 'no' 'southeast']\n",
      " [28 'male' 33.0 3 'no' 'southeast']\n",
      " ...\n",
      " [18 'female' 36.85 0 'no' 'southeast']\n",
      " [21 'female' 25.8 0 'no' 'southwest']\n",
      " [61 'female' 29.07 0 'yes' 'northwest']]\n"
     ]
    }
   ],
   "source": [
    "print(X)"
   ]
  },
  {
   "cell_type": "code",
   "execution_count": 12,
   "metadata": {},
   "outputs": [],
   "source": [
    "#Encoding the categorical data for \"State\" predictor. \n",
    "from sklearn.preprocessing import LabelEncoder, OneHotEncoder \n",
    "from sklearn.compose import ColumnTransformer\n",
    "from sklearn import preprocessing\n",
    "le = preprocessing.LabelEncoder()\n",
    "labelencoder = LabelEncoder()\n",
    "\n"
   ]
  },
  {
   "cell_type": "code",
   "execution_count": 13,
   "metadata": {},
   "outputs": [
    {
     "data": {
      "text/plain": [
       "['northeast', 'northwest', 'southeast', 'southwest']"
      ]
     },
     "execution_count": 13,
     "metadata": {},
     "output_type": "execute_result"
    }
   ],
   "source": [
    "le.fit(X[:,5])\n",
    "list(le.inverse_transform([0, 1, 2, 3]))"
   ]
  },
  {
   "cell_type": "code",
   "execution_count": 14,
   "metadata": {},
   "outputs": [
    {
     "data": {
      "text/plain": [
       "['female', 'male']"
      ]
     },
     "execution_count": 14,
     "metadata": {},
     "output_type": "execute_result"
    }
   ],
   "source": [
    "le.fit(X[:,1])\n",
    "list(le.inverse_transform([0, 1]))"
   ]
  },
  {
   "cell_type": "code",
   "execution_count": 15,
   "metadata": {},
   "outputs": [
    {
     "data": {
      "text/plain": [
       "['no', 'yes']"
      ]
     },
     "execution_count": 15,
     "metadata": {},
     "output_type": "execute_result"
    }
   ],
   "source": [
    "le.fit(X[:,4])\n",
    "list(le.inverse_transform([0, 1]))"
   ]
  },
  {
   "cell_type": "code",
   "execution_count": 16,
   "metadata": {},
   "outputs": [],
   "source": [
    "X[:,1] = labelencoder.fit_transform(X[:,1])\n",
    "X[:,5] = labelencoder.fit_transform(X[:,5])\n",
    "X[:,4] = labelencoder.fit_transform(X[:,4])"
   ]
  },
  {
   "cell_type": "code",
   "execution_count": 17,
   "metadata": {},
   "outputs": [
    {
     "name": "stdout",
     "output_type": "stream",
     "text": [
      "[[19 0 27.9 0 1 3]\n",
      " [18 1 33.77 1 0 2]\n",
      " [28 1 33.0 3 0 2]\n",
      " ...\n",
      " [18 0 36.85 0 0 2]\n",
      " [21 0 25.8 0 0 3]\n",
      " [61 0 29.07 0 1 1]]\n"
     ]
    }
   ],
   "source": [
    "\n",
    "print(X)"
   ]
  },
  {
   "cell_type": "code",
   "execution_count": 18,
   "metadata": {},
   "outputs": [
    {
     "data": {
      "text/plain": [
       "<AxesSubplot:>"
      ]
     },
     "execution_count": 18,
     "metadata": {},
     "output_type": "execute_result"
    },
    {
     "data": {
      "image/png": "[encoded data removed]",
      "text/plain": [
       "<Figure size 720x720 with 2 Axes>"
      ]
     },
     "metadata": {
      "needs_background": "light"
     },
     "output_type": "display_data"
    }
   ],
   "source": [
    "#exploratory data analysis\n",
    "#correlation heat map\n",
    "corelation = data.corr()\n",
    "plt.subplots(figsize=(10,10))\n",
    "sns.heatmap(corelation)\n",
    "\n"
   ]
  },
  {
   "cell_type": "code",
   "execution_count": 81,
   "metadata": {},
   "outputs": [
    {
     "data": {
      "image/png": "[encoded data removed]",
      "text/plain": [
       "<Figure size 360x360 with 1 Axes>"
      ]
     },
     "metadata": {
      "needs_background": "light"
     },
     "output_type": "display_data"
    },
    {
     "data": {
      "image/png": "[encoded data removed]",
      "text/plain": [
       "<Figure size 360x360 with 1 Axes>"
      ]
     },
     "metadata": {
      "needs_background": "light"
     },
     "output_type": "display_data"
    },
    {
     "data": {
      "image/png": "[encoded data removed]",
      "text/plain": [
       "<Figure size 360x360 with 1 Axes>"
      ]
     },
     "metadata": {
      "needs_background": "light"
     },
     "output_type": "display_data"
    },
    {
     "data": {
      "image/png": "[encoded data removed]",
      "text/plain": [
       "<Figure size 360x360 with 1 Axes>"
      ]
     },
     "metadata": {
      "needs_background": "light"
     },
     "output_type": "display_data"
    },
    {
     "data": {
      "image/png": "[encoded data removed]",
      "text/plain": [
       "<Figure size 360x360 with 1 Axes>"
      ]
     },
     "metadata": {
      "needs_background": "light"
     },
     "output_type": "display_data"
    },
    {
     "data": {
      "image/png": "[encoded data removed]",
      "text/plain": [
       "<Figure size 360x360 with 1 Axes>"
      ]
     },
     "metadata": {
      "needs_background": "light"
     },
     "output_type": "display_data"
    },
    {
     "data": {
      "image/png": "[encoded data removed]",
      "text/plain": [
       "<Figure size 360x360 with 1 Axes>"
      ]
     },
     "metadata": {
      "needs_background": "light"
     },
     "output_type": "display_data"
    }
   ],
   "source": [
    "#drawing histograms of different columns to know the distribution\n",
    "for i in data:\n",
    "      sns.displot(data[i], discrete = True)"
   ]
  },
  {
   "cell_type": "code",
   "execution_count": 19,
   "metadata": {},
   "outputs": [],
   "source": [
    "#Splitting the data in training and testing set.\n",
    "from sklearn.model_selection import train_test_split\n",
    "X_train, X_test, y_train, y_test = train_test_split(X, y, test_size = 0.3)"
   ]
  },
  {
   "cell_type": "code",
   "execution_count": 20,
   "metadata": {},
   "outputs": [
    {
     "data": {
      "text/plain": [
       "array([ 3948.63953906, 10693.29887917, 31113.55750889, 10405.72824989,\n",
       "        7117.42915988, 12182.40460143,  2196.22562816,  7010.56721022,\n",
       "       10367.05780311, 11494.95594135,  4919.13046534,  5674.975242  ,\n",
       "       16070.64011835, 10190.91051384, 10618.78837386, 14246.68525126,\n",
       "       34168.50945411, 37299.24882888, 14608.84439395,  7360.95359356,\n",
       "        -159.91984291, 32276.99845491, 10966.43453728,  9535.27159119,\n",
       "        7939.42430912,  7997.49028087, 30122.82748702, 27400.16504239,\n",
       "       10974.58695588,  7098.76694466, 26868.03876152,  2710.99142643,\n",
       "       16042.7988952 , 28519.81413639,  8452.6893376 , 13785.06023083,\n",
       "       30184.93030039, 33690.29844968, 35179.62786144,  9389.14588612,\n",
       "       16712.69296807, 12279.17301038, 35500.94472726,   772.95145574,\n",
       "         320.16320158,  5367.43108702,  2117.86628118,  8924.43396734,\n",
       "        1228.75153449,  2876.27325141,  9829.1909962 , 29925.50449941,\n",
       "        5997.95205744, 12628.66040373, 35597.79017067,    96.93566609,\n",
       "        4881.56423656, 11627.00620114, 10483.35309423, 14243.65631157,\n",
       "       30740.67625989, 16291.39150137, 11744.61926005, 16236.66883516,\n",
       "       32163.58679483, 15072.2179667 , 39599.67985318,  5336.65252441,\n",
       "         847.39997807,  6946.87915162,  2996.04516259, 13861.70373314,\n",
       "        3992.38207636,  8889.70344437,  9495.50462975,  9143.67532233,\n",
       "        8518.39197667,  2740.9823666 ,  4544.83078854, 12936.96165006,\n",
       "        5607.6278709 ,  3826.66006516, 12164.76636639,  9150.70151277,\n",
       "       34328.44607139, 13120.88858522, 12355.22114046,  3900.87477907,\n",
       "        9213.68604498,  3316.47292838, 10131.20187367, 13196.36827232,\n",
       "        8650.76869934, 27258.29243411, 29004.27729091, 26487.24602712,\n",
       "        9173.52682255,  7553.21156228,  6622.82749641, -2112.02331789,\n",
       "        9721.27589732,   941.88090864,  9444.87542747,  4614.5167068 ,\n",
       "        4470.3822662 ,  5366.80795194, 14470.37262735, 27743.02616653,\n",
       "       27247.31588131,  9288.60696322, 28384.03982853, 19303.5878205 ,\n",
       "       33184.44405888, 12922.12323469, 14169.79018366, 11517.17816549,\n",
       "       30846.3434181 , 34661.97088483,   444.5108399 , 31367.58516892,\n",
       "       16240.6062197 , 28073.18762498, 10995.66941289, 11625.25331495,\n",
       "       13319.86190149,  7895.96056108,  4898.23209692, 16363.51418789,\n",
       "       15823.45296217,  7223.61038519, 26693.10911888, 37809.75343196,\n",
       "       31906.31778251, 12773.43374811, 32184.36036966,  7763.2976579 ,\n",
       "        9847.81692766,  5852.44448949, 10820.51596779,  5078.88754378,\n",
       "        6032.03525861,  9158.23670249,  6853.90752181, 14049.12694273,\n",
       "       37280.61079033, 34010.63548598,  1642.55545168,  7643.47100147,\n",
       "       12279.21772221,  5784.01358154, 34017.90009779, 14147.4189618 ,\n",
       "       12380.41509031, 36629.17330961,   164.99586493,  5469.63424028,\n",
       "        7596.95251162, 10786.95485666, 13539.66958269, 11918.64800513,\n",
       "       10652.70164709, 11033.854496  ,  8547.10535085, 31850.96137659,\n",
       "        8061.47382132,  3285.53225159,  2944.54824606,  4860.74067289,\n",
       "        3356.1361825 , 10759.89387476, -1830.03067795, 34080.3449867 ,\n",
       "       16343.82493513,   945.65276899, 10447.27667794,  9425.83142284,\n",
       "       11984.90207498,  2779.71105415,  4115.34582664, 10725.2399106 ,\n",
       "       33714.90539217, 15087.83517402, 17022.9552299 ,  5274.15129225,\n",
       "       29613.45057145, 11167.97742831, 28951.2638359 ,  1977.00788868,\n",
       "        7612.68830158, 39111.59971476, 14220.74337274,   403.54584311,\n",
       "        1179.5451968 , 10964.53280943,  4433.8848424 ,  6866.0552836 ,\n",
       "        6856.84765216,  3602.89582071,  9171.15731174,  2057.8317567 ,\n",
       "        7023.33294302,  9313.99208333, 28364.1186749 ,  7085.66218363,\n",
       "       16042.72854735,  7397.5663992 ,  6515.39569757,  2771.53712676,\n",
       "        9516.04153726,  5284.87795836, 36261.93155727,  9170.09399044,\n",
       "        7726.79817048,  4252.83641732,  5650.90159846, 10174.50878454,\n",
       "       33986.61745842,  7283.91621485,  8365.98537498, 30480.96679024,\n",
       "       14209.08376551,  7702.10860695, 17048.23560587,  1684.36707644,\n",
       "        8659.54881281,  9989.35951435,  3334.97510308, 38505.5173569 ,\n",
       "        3828.15241692, 30682.69688036, -1125.0490781 , 11879.78607853,\n",
       "       -1269.76798679, 27309.32776857,  5400.53148681, 35186.76323282,\n",
       "        1541.68175077,  8016.28923066, 11745.40704858,  6691.8996813 ,\n",
       "       12000.63786494, 11971.0533665 , 27172.43125688, 30904.34197634,\n",
       "       29073.79562137,  5963.20339259,  5433.10259633,  6325.78060845,\n",
       "        5776.74896973, 16749.08223772,  1762.61711947,  7256.63629985,\n",
       "        4861.87689137,  5842.85610547,  -239.08599103, 40810.97861877,\n",
       "       13397.66127666, 16129.83464833, 35859.72030947,  1518.77119517,\n",
       "        7055.59144075, 12368.99075086, 30037.31375606, 12274.12406975,\n",
       "        7525.86320699, 13530.50371868, 11229.43451788,  8345.58591927,\n",
       "       35703.96492862, 37588.30187941,  5073.70387905, 13273.06121237,\n",
       "        7509.61537046,  1234.96135598, 14001.73391862,  7318.59142135,\n",
       "        8076.40741302, 13843.61744498, 31373.38457749, 11057.68532447,\n",
       "       14431.0790455 , 25116.41795672,  8240.85217784, 11402.34410644,\n",
       "        4278.79333727, 15568.75010455,  8601.78319227,  7818.2873259 ,\n",
       "       14893.50142228, 11827.92047342,  5623.11718417, 10406.85132445,\n",
       "        1573.49696182, 30956.16494329, 12918.43176567, 27689.85985558,\n",
       "        6020.0229281 , 10942.94007476,  3437.17380951,  1654.32082984,\n",
       "        5563.56342046, 36801.1721333 , 12663.3568626 , 13259.99734804,\n",
       "        9584.71427658, 11265.3630762 , 10309.19158575,  7279.8205338 ,\n",
       "       10033.5884622 , 33873.92958338, 12170.26510415, 33440.70993572,\n",
       "        5635.88291697, 10666.75391502,  6863.2404225 , 13285.94775753,\n",
       "       27217.49209077,  4403.78519695,  3638.31280812, 11771.41530377,\n",
       "       11273.80019025, 15423.3427109 , 13577.5779301 , 30713.27320245,\n",
       "        5971.6062865 , 26700.37373069,  8973.05583694, 13628.02419358,\n",
       "       10846.79035404, 12487.61084095, 10687.3038535 , 13070.12910567,\n",
       "       28850.50019671, 17528.63865593,  6372.5116644 ,  4438.37191371,\n",
       "       13387.24452957,  1888.90126696, 11467.84156059,  8964.11536334,\n",
       "       29890.85053525,  6358.16110888, 11660.01293709, 31082.65121834,\n",
       "       11404.9872956 , 16484.60098566,  8473.95578029,  8518.78320082,\n",
       "       16378.23608423,  6254.55560608, 35267.96328357,  7537.95446948,\n",
       "         414.16027092, 10142.66380018,  9445.10732833, 15629.23339939,\n",
       "        5477.25450972, 11408.1510623 ,  5261.2462856 ,  7404.25698147,\n",
       "       35131.25087052, 14131.02064251, 39237.69476565, 10454.38537647,\n",
       "        3490.07105505, 11503.87382623,  4106.26846241,  3605.82208992,\n",
       "       33837.60062816, 14889.45842287, 16204.94673683,  6033.96013635,\n",
       "        9384.46661777,  5244.83086126, 36821.122343  ,  8422.904058  ,\n",
       "        4901.43556744, 14869.6267958 ,  9388.31136524,  3673.61115974,\n",
       "       -2009.57201939, 12614.75758172, 10255.99549145, 27767.10748036,\n",
       "       12691.12891818,  6663.32764459,  9277.4905323 , 16313.38095392,\n",
       "       14986.25856583,  6334.76828001, 11221.24434612,  8978.08607452,\n",
       "        3727.12915713,  9084.62611104, 16764.70947845, 13714.00928362,\n",
       "        6932.07569852, 32395.02001917,  9411.77661563, 10122.40361832,\n",
       "        9793.99825946, 25128.03595257])"
      ]
     },
     "execution_count": 20,
     "metadata": {},
     "output_type": "execute_result"
    }
   ],
   "source": [
    "#Fitting the Multiple linear rehression on training set.\n",
    "from sklearn.linear_model import LinearRegression\n",
    "reg = LinearRegression()\n",
    "reg.fit(X_train, y_train)\n",
    "#Predicting on test set.\n",
    "y_pred = reg.predict(X_test)\n",
    "y_pred"
   ]
  },
  {
   "cell_type": "code",
   "execution_count": 21,
   "metadata": {},
   "outputs": [
    {
     "data": {
      "text/plain": [
       "array([ 4032.2407 ,  7160.094  , 43943.8761 , 32108.66282,  3277.161  ,\n",
       "        8823.98575,  4296.2712 ,  9264.797  , 10942.13205, 12323.936  ,\n",
       "        4234.927  ,  3172.018  , 13228.84695,  5397.6167 , 11150.78   ,\n",
       "       11264.541  , 39556.4945 , 44260.7499 , 10450.552  ,  9991.03765,\n",
       "        1627.28245, 39611.7577 , 25517.11363,  9301.89355,  4670.64   ,\n",
       "        6548.19505, 20234.85475, 34439.8559 ,  2438.0552 ,  6059.173  ,\n",
       "       16115.3045 ,  2155.6815 , 13887.204  , 18608.262  ,  3201.24515,\n",
       "       11488.31695, 36837.467  , 39983.42595, 41949.2441 ,  9095.06825,\n",
       "       11566.30055, 14451.83515, 48885.13561,  2201.0971 ,  1737.376  ,\n",
       "        4894.7533 ,  1744.465  ,  6128.79745,  1615.7667 ,  1977.815  ,\n",
       "        9282.4806 , 19515.5416 ,  1634.5734 , 13224.693  , 42124.5153 ,\n",
       "       11884.04858,  3385.39915,  7162.0122 ,  7196.867  , 11987.1682 ,\n",
       "       19798.05455, 13635.6379 , 12629.1656 , 13887.9685 , 37701.8768 ,\n",
       "       14043.4767 , 47462.894  ,  3981.9768 ,  3378.91   ,  2730.10785,\n",
       "        3161.454  , 11163.568  ,  2459.7201 ,  5377.4578 ,  8703.456  ,\n",
       "        5699.8375 ,  7243.8136 ,  4827.90495, 20177.67113, 14256.1928 ,\n",
       "        2404.7338 ,  2130.6759 ,  9563.029  ,  8026.6666 , 24915.22085,\n",
       "       10085.846  ,  5846.9176 , 23241.47453, 27117.99378,  2203.47185,\n",
       "        4795.6568 , 11848.141  ,  8604.48365, 17496.306  , 19521.9682 ,\n",
       "       16577.7795 ,  8277.523  ,  4738.2682 ,  6985.50695,  1727.785  ,\n",
       "        6571.02435,  2150.469  ,  6653.7886 ,  1141.4451 ,  3056.3881 ,\n",
       "        4435.0942 , 26467.09737, 34472.841  , 34828.654  ,  6082.405  ,\n",
       "       34838.873  , 12592.5345 , 40904.1995 , 28476.73499, 13429.0354 ,\n",
       "       10704.47   , 37829.7242 , 24873.3849 ,  2117.33885, 22144.032  ,\n",
       "       11093.6229 , 18648.4217 ,  9869.8102 , 11015.1747 , 10564.8845 ,\n",
       "        6837.3687 ,  2134.9015 , 13470.86   , 11396.9002 ,  9182.17   ,\n",
       "       32734.1863 , 60021.39897, 21659.9301 ,  8671.19125, 22218.1149 ,\n",
       "        6455.86265,  7731.4271 ,  4618.0799 ,  6474.013  ,  5708.867  ,\n",
       "        4564.19145,  6338.0756 ,  7045.499  , 12928.7911 , 44400.4064 ,\n",
       "       39725.51805,  1972.95   , 17128.42608,  9872.701  ,  3877.30425,\n",
       "       40003.33225,  9880.068  ,  4686.3887 , 28101.33305,  1711.0268 ,\n",
       "        6272.4772 ,  5425.02335,  9724.53   , 13457.9608 ,  8457.818  ,\n",
       "        9617.66245,  9222.4026 ,  7144.86265, 37742.5757 ,  5327.40025,\n",
       "        3353.284  , 23082.95533,  2020.5523 ,  2457.21115,  9487.6442 ,\n",
       "        1728.897  , 24106.91255, 12981.3457 ,  3208.787  ,  9447.3824 ,\n",
       "        4762.329  , 10796.35025,  1621.8827 ,  2867.1196 , 11326.71487,\n",
       "       40932.4295 ,  9704.66805, 12485.8009 ,  2497.0383 , 36197.699  ,\n",
       "       12523.6048 , 19350.3689 ,  2198.18985,  6184.2994 , 47928.03   ,\n",
       "       27000.98473,  2527.81865,  1632.56445,  7639.41745,  2741.948  ,\n",
       "        2217.46915,  3925.7582 ,  3046.062  ,  8232.6388 ,  2710.82855,\n",
       "        8269.044  ,  5934.3798 , 19933.458  ,  6496.886  , 30063.58055,\n",
       "        3268.84665,  4399.731  ,  2104.1134 , 10197.7722 , 27375.90478,\n",
       "       42983.4585 ,  6875.961  ,  8302.53565,  2055.3249 ,  4561.1885 ,\n",
       "        7358.17565, 24667.419  ,  4830.63   ,  8782.469  , 37133.8982 ,\n",
       "       11743.9341 , 26236.57997, 14319.031  ,  3861.20965,  6406.4107 ,\n",
       "       10422.91665,  1136.3994 , 46200.9851 ,  3070.8087 , 20296.86345,\n",
       "        1731.677  ,  5662.225  ,  2585.269  , 16657.71745,  2136.88225,\n",
       "       41034.2214 ,  2196.4732 ,  6770.1925 ,  8334.5896 , 13725.47184,\n",
       "       12222.8983 , 10338.9316 , 18033.9679 , 38245.59327, 18972.495  ,\n",
       "        1682.597  ,  6117.4945 ,  3490.5491 ,  4243.59005, 24227.33724,\n",
       "        1842.519  ,  7623.518  ,  3392.9768 ,  1633.9618 ,  1964.78   ,\n",
       "       49577.6624 , 11946.6259 , 14474.675  , 42560.4304 ,  3260.199  ,\n",
       "        5469.0066 , 12224.35085, 38344.566  , 10461.9794 ,  8539.671  ,\n",
       "       12557.6053 ,  9620.3307 ,  6186.127  , 42211.1382 , 29523.1656 ,\n",
       "        4992.3764 , 11299.343  ,  5488.262  ,  3180.5101 , 11879.10405,\n",
       "        4922.9159 ,  6746.7425 , 10713.644  , 21223.6758 ,  4266.1658 ,\n",
       "       12269.68865, 16884.924  ,  7726.854  , 13616.3586 ,  1981.5819 ,\n",
       "       14692.66935, 12404.8791 ,  7201.70085, 11436.73815, 20878.78443,\n",
       "        2498.4144 ,  8280.6227 ,  1708.92575, 21472.4788 , 11840.77505,\n",
       "       17361.7661 ,  3171.6149 , 10436.096  ,  2690.1138 ,  2221.56445,\n",
       "        3972.9247 , 43753.33705, 10043.249  ,  7448.40395,  8116.68   ,\n",
       "        8522.003  ,  5972.378  ,  3393.35635,  5428.7277 , 24393.6224 ,\n",
       "       12797.20962, 40182.246  ,  1986.9334 ,  7348.142  ,  5253.524  ,\n",
       "       10370.91255, 33732.6867 , 10795.93733,  1980.07   ,  9290.1395 ,\n",
       "        7727.2532 ,  9875.6804 , 20630.28351, 36950.2567 ,  1146.7966 ,\n",
       "       16420.49455,  4949.7587 , 27322.73386,  6781.3542 , 12129.61415,\n",
       "        4536.259  , 10435.06525, 35595.5898 , 13405.3903 ,  5152.134  ,\n",
       "        3537.703  , 11842.62375,  2731.9122 , 14349.8544 ,  5594.8455 ,\n",
       "       37165.1638 ,  5261.46945,  7740.337  , 20984.0936 ,  8835.26495,\n",
       "       15612.19335, 10577.087  ,  8932.084  , 12950.0712 ,  2534.39375,\n",
       "       41676.0811 ,  6311.952  ,  1515.3449 ,  7418.522  ,  5729.0053 ,\n",
       "        8569.8618 ,  4571.41305, 11931.12525,  1631.6683 ,  5478.0368 ,\n",
       "       26109.32905, 13393.756  , 46661.4424 ,  6600.20595,  1137.011  ,\n",
       "       12479.70895,  2904.088  ,  1880.487  , 40419.0191 , 13974.45555,\n",
       "       10977.2063 ,  3956.07145,  8059.6791 ,  3591.48   , 43578.9394 ,\n",
       "        5246.047  ,  2699.56835, 13555.0049 ,  9863.4718 ,  3906.127  ,\n",
       "        1694.7964 ,  9964.06   ,  8062.764  , 18259.216  , 14988.432  ,\n",
       "        8428.0693 ,  9788.8659 , 11033.6617 ,  9504.3103 ,  5966.8874 ,\n",
       "       12142.5786 , 11013.7119 ,  1391.5287 ,  4673.3922 , 13981.85035,\n",
       "       11512.405  ,  8605.3615 , 22462.04375,  7537.1639 ,  7954.517  ,\n",
       "        7209.4918 , 14571.8908 ])"
      ]
     },
     "execution_count": 21,
     "metadata": {},
     "output_type": "execute_result"
    }
   ],
   "source": [
    "y_test"
   ]
  },
  {
   "cell_type": "code",
   "execution_count": 22,
   "metadata": {},
   "outputs": [
    {
     "data": {
      "text/plain": [
       "0.776035771068343"
      ]
     },
     "execution_count": 22,
     "metadata": {},
     "output_type": "execute_result"
    }
   ],
   "source": [
    "reg.score(X_test,y_test)"
   ]
  },
  {
   "cell_type": "code",
   "execution_count": 23,
   "metadata": {},
   "outputs": [
    {
     "data": {
      "text/plain": [
       "array([   -83.60116094,   3533.20487917, -12830.31859111, -21702.93457011,\n",
       "         3840.26815988,   3358.41885143,  -2100.04557184,  -2254.22978978,\n",
       "         -575.07424689,   -828.98005865,    684.20346534,   2502.957242  ,\n",
       "         2841.79316835,   4793.29381384,   -531.99162614,   2982.14425126,\n",
       "        -5387.98504589,  -6961.50107112,   4158.29239395,  -2630.08405644,\n",
       "        -1787.20229291,  -7334.75924509, -14550.67909272,    233.37804119,\n",
       "         3268.78430912,   1449.29523087,   9887.97273702,  -7039.69085761,\n",
       "         8536.53175588,   1039.59394466,  10752.73426152,    555.30992643,\n",
       "         2155.5948952 ,   9911.55213639,   5251.4441876 ,   2296.74328083,\n",
       "        -6652.53669961,  -6293.12750032,  -6769.61623856,    294.07763612,\n",
       "         5146.39241807,  -2172.66213962, -13384.19088274,  -1428.14564426,\n",
       "        -1417.21279842,    472.67778702,    373.40128118,   2795.63651734,\n",
       "         -387.01516551,    898.45825141,    546.7103962 ,  10409.96289941,\n",
       "         4363.37865744,   -596.03259627,  -6526.72512933, -11787.11291391,\n",
       "         1496.16508656,   4464.99400114,   3286.48609423,   2256.48811157,\n",
       "        10942.62170989,   2655.75360137,   -884.54633995,   2348.70033516,\n",
       "        -5538.29000517,   1028.7412667 ,  -7863.21414682,   1354.67572441,\n",
       "        -2531.51002193,   4216.77130162,   -165.40883741,   2698.13573314,\n",
       "         1532.66197636,   3512.24564437,    792.04862975,   3443.83782233,\n",
       "         1274.57837667,  -2086.9225834 , -15632.84034146,  -1319.23114994,\n",
       "         3202.8940709 ,   1695.98416516,   2601.73736639,   1124.03491277,\n",
       "         9413.22522139,   3035.04258522,   6508.30354046, -19340.59975093,\n",
       "       -17904.30773502,   1113.00107838,   5335.54507367,   1348.22727232,\n",
       "           46.28504934,   9761.98643411,   9482.30909091,   9909.46652712,\n",
       "          896.00382255,   2814.94336228,   -362.67945359,  -3839.80831789,\n",
       "         3150.25154732,  -1208.58809136,   2791.08682747,   3473.0716068 ,\n",
       "         1413.9941662 ,    931.71375194, -11996.72474265,  -6729.81483347,\n",
       "        -7581.33811869,   3206.20196322,  -6454.83317147,   6711.0533205 ,\n",
       "        -7719.75544112, -15554.61175531,    740.75478366,    812.70816549,\n",
       "        -6983.3807819 ,   9788.58598483,  -1672.8280101 ,   9223.55316892,\n",
       "         5146.9833197 ,   9424.76592498,   1125.85921289,    610.07861495,\n",
       "         2754.97740149,   1058.59186108,   2763.33059692,   2892.65418789,\n",
       "         4426.55276217,  -1958.55961481,  -6041.07718112, -22211.64553804,\n",
       "        10246.38768251,   4102.24249811,   9966.24546966,   1307.4350079 ,\n",
       "         2116.38982766,   1234.36458949,   4346.50296779,   -629.97945622,\n",
       "         1467.84380861,   2820.16110249,   -191.59147819,   1120.33584273,\n",
       "        -7119.79560967,  -5714.88256402,   -330.39454832,  -9484.95507853,\n",
       "         2406.51672221,   1906.70933154,  -5985.43215221,   4267.3509618 ,\n",
       "         7694.02639031,   8527.84025961,  -1546.03093507,   -802.84295972,\n",
       "         2171.92916162,   1062.42485666,     81.70878269,   3460.83000513,\n",
       "         1035.03919709,   1811.451896  ,   1402.24270085,  -5891.61432341,\n",
       "         2734.07357132,    -67.75174841, -20138.40708394,   2840.18837289,\n",
       "          898.9250325 ,   1272.24967476,  -3558.92767795,   9973.4324367 ,\n",
       "         3362.47923513,  -2263.13423101,    999.89427794,   4663.50242284,\n",
       "         1188.55182498,   1157.82835415,   1248.22622664,   -601.4749594 ,\n",
       "        -7217.52410783,   5383.16712402,   4537.1543299 ,   2777.11299225,\n",
       "        -6584.24842855,  -1355.62737169,   9600.8949359 ,   -221.18196132,\n",
       "         1428.38890158,  -8816.43028524, -12780.24135726,  -2124.27280689,\n",
       "         -453.0192532 ,   3325.11535943,   1691.9368424 ,   4648.5861336 ,\n",
       "         2931.08945216,    556.83382071,    938.51851174,   -652.9967933 ,\n",
       "        -1245.71105698,   3379.61228333,   8430.6606749 ,    588.77618363,\n",
       "       -14020.85200265,   4128.7197492 ,   2115.66469757,    667.42372676,\n",
       "         -681.73066274, -22091.02682164,  -6721.52694273,   2294.13299044,\n",
       "         -575.73747952,   2197.51151732,   1089.71309846,   2816.33313454,\n",
       "         9319.19845842,   2453.28621485,   -416.48362502,  -6652.93140976,\n",
       "         2465.14966551, -18534.47136305,   2729.20460587,  -2176.84257356,\n",
       "         2253.13811281,   -433.55713565,   2198.57570308,  -7695.4677431 ,\n",
       "          757.34371692,  10385.83343036,  -2856.7260781 ,   6217.56107853,\n",
       "        -3855.03698679,  10651.61031857,   3263.64923681,  -5847.45816718,\n",
       "         -654.79144923,   1246.09673066,   3410.81744858,  -7033.5721587 ,\n",
       "         -222.26043506,   1632.1217665 ,   9138.46335688,  -7341.25129366,\n",
       "        10101.30062137,   4280.60639259,   -684.39190367,   2835.23150845,\n",
       "         1533.15891973,  -7478.25500228,    -79.90188053,   -366.88170015,\n",
       "         1468.90009137,   4208.89430547,  -2203.86599103,  -8766.68378123,\n",
       "         1451.03537666,   1655.15964833,  -6700.71009053,  -1741.42780483,\n",
       "         1586.58484075,    144.63990086,  -8307.25224394,   1812.14466975,\n",
       "        -1013.80779301,    972.89841868,   1609.10381788,   2159.45891927,\n",
       "        -6507.17327138,   8065.13627941,     81.32747905,   1973.71821237,\n",
       "         2021.35337046,  -1945.54874402,   2122.62986862,   2395.67552135,\n",
       "         1329.66491302,   3129.97344498,  10149.70877749,   6791.51952447,\n",
       "         2161.3903955 ,   8231.49395672,    513.99817784,  -2214.01449356,\n",
       "         2297.21143727,    876.08075455,  -3803.09590773,    616.5864759 ,\n",
       "         3456.76327228,  -9050.86395658,   3124.70278417,   2126.22862445,\n",
       "         -135.42878818,   9483.68614329,   1077.65671567,  10328.09375558,\n",
       "         2848.4080281 ,    506.84407476,    747.06000951,   -567.24362016,\n",
       "         1590.63872046,  -6952.1649167 ,   2620.1078626 ,   5811.59339804,\n",
       "         1468.03427658,   2743.3600762 ,   4336.81358575,   3886.4641838 ,\n",
       "         4604.8607622 ,   9480.30718338,   -626.94451585,  -6741.53606428,\n",
       "         3648.94951697,   3318.61191502,   1609.7164225 ,   2915.03520753,\n",
       "        -6515.19460923,  -6392.15213305,   1658.24280812,   2481.27580377,\n",
       "         3546.54699025,   5547.6623109 ,  -7052.7055799 ,  -6236.98349755,\n",
       "         4824.8096865 ,  10279.87918069,   4023.29713694, -13694.70966642,\n",
       "         4065.43615404,    357.99669095,   6151.0448535 ,   2635.06385567,\n",
       "        -6745.08960329,   4123.24835593,   1220.3776644 ,    900.66891371,\n",
       "         1544.62077957,   -843.01093304,  -2882.01283941,   3369.26986334,\n",
       "        -7274.31326475,   1096.69165888,   3919.67593709,  10098.55761834,\n",
       "         2569.7223456 ,    872.40763566,  -2103.13121971,   -413.30079918,\n",
       "         3428.16488423,   3720.16185608,  -6408.11781643,   1226.00246948,\n",
       "        -1101.18462908,   2724.14180018,   3716.10202833,   7059.37159939,\n",
       "          905.84145972,   -522.9741877 ,   3629.5779856 ,   1926.22018147,\n",
       "         9021.92182052,    737.26464251,  -7423.74763435,   3854.17942647,\n",
       "         2353.06005505,   -975.83512377,   1202.18046241,   1725.33508992,\n",
       "        -6581.41847184,    915.00287287,   5227.74043683,   2077.88868635,\n",
       "         1324.78751777,   1653.35086126,  -6757.817057  ,   3176.857058  ,\n",
       "         2201.86721744,   1314.6218958 ,   -475.16043476,   -232.51584026,\n",
       "        -3704.36841939,   2650.69758172,   2193.23149145,   9507.89148036,\n",
       "        -2297.30308182,  -1764.74165541,   -511.3753677 ,   5279.71925392,\n",
       "         5481.94826583,    367.88088001,   -921.33425388,  -2035.62582548,\n",
       "         2335.60045713,   4411.23391104,   2782.85912845,   2201.60428362,\n",
       "        -1673.28580148,   9932.97626917,   1874.61271563,   2167.88661832,\n",
       "         2584.50645946,  10556.14515257])"
      ]
     },
     "execution_count": 23,
     "metadata": {},
     "output_type": "execute_result"
    }
   ],
   "source": [
    "y_pred - y_test"
   ]
  },
  {
   "cell_type": "code",
   "execution_count": 24,
   "metadata": {},
   "outputs": [
    {
     "data": {
      "text/plain": [
       "Text(0, 0.5, 'Predicted')"
      ]
     },
     "execution_count": 24,
     "metadata": {},
     "output_type": "execute_result"
    },
    {
     "data": {
      "image/png": "[encoded data removed]",
      "text/plain": [
       "<Figure size 1080x720 with 1 Axes>"
      ]
     },
     "metadata": {
      "needs_background": "light"
     },
     "output_type": "display_data"
    }
   ],
   "source": [
    "plt.figure(figsize = (15,10))\n",
    "plt.xlim([0, 50000])\n",
    "plt.ylim([0, 50000])\n",
    "plt.scatter(y_test,y_pred)\n",
    "plt.plot(y_test, y_test, color='green', linewidth=3)\n",
    "plt.xlabel('Actual')\n",
    "plt.ylabel('Predicted')"
   ]
  },
  {
   "cell_type": "code",
   "execution_count": null,
   "metadata": {},
   "outputs": [],
   "source": []
  }
 ],
 "metadata": {
  "kernelspec": {
   "display_name": "Python 3",
   "language": "python",
   "name": "python3"
  },
  "language_info": {
   "codemirror_mode": {
    "name": "ipython",
    "version": 3
   },
   "file_extension": ".py",
   "mimetype": "text/x-python",
   "name": "python",
   "nbconvert_exporter": "python",
   "pygments_lexer": "ipython3",
   "version": "3.8.5"
  }
 },
 "nbformat": 4,
 "nbformat_minor": 4
}
